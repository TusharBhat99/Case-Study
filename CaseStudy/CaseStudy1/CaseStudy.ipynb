{
 "cells": [
  {
   "cell_type": "code",
   "execution_count": 262,
   "id": "20223a97",
   "metadata": {},
   "outputs": [],
   "source": [
    "import numpy as np\n",
    "import pandas as pd\n",
    "import seaborn as sns\n",
    "import matplotlib.pyplot as plt\n",
    "import statsmodels.formula.api as sfa\n",
    "from statsmodels.stats.anova import anova_lm\n",
    "import scipy.stats as stats\n",
    "\n",
    "from sklearn.model_selection import KFold\n",
    "from sklearn.ensemble import GradientBoostingRegressor, RandomForestRegressor\n",
    "from sklearn.tree import DecisionTreeRegressor\n",
    "import xg\n",
    "from sklearn.ensemble import StackingRegressor\n",
    "\n",
    "from warnings import filterwarnings\n",
    "filterwarnings('ignore')"
   ]
  },
  {
   "cell_type": "code",
   "execution_count": 85,
   "id": "d41b2333",
   "metadata": {},
   "outputs": [],
   "source": [
    "train_data = pd.read_csv('train.csv')\n",
    "test_data = pd.read_csv('test.csv')"
   ]
  },
  {
   "cell_type": "code",
   "execution_count": 86,
   "id": "9de64ed5",
   "metadata": {},
   "outputs": [],
   "source": [
    "data = pd.concat([train_data,test_data], ignore_index = False)"
   ]
  },
  {
   "cell_type": "code",
   "execution_count": 87,
   "id": "c3c4cce3",
   "metadata": {},
   "outputs": [
    {
     "name": "stdout",
     "output_type": "stream",
     "text": [
      "Shape of train data (550068, 12)\n",
      "Shape of test data (233599, 11)\n",
      "Combined Data (783667, 12)\n"
     ]
    }
   ],
   "source": [
    "print(f'Shape of train data { train_data.shape}')\n",
    "print(f'Shape of test data { test_data.shape}')\n",
    "print(f'Combined Data {data.shape}')"
   ]
  },
  {
   "cell_type": "code",
   "execution_count": 88,
   "id": "100b98d2",
   "metadata": {},
   "outputs": [
    {
     "name": "stdout",
     "output_type": "stream",
     "text": [
      "<class 'pandas.core.frame.DataFrame'>\n",
      "Int64Index: 783667 entries, 0 to 233598\n",
      "Data columns (total 12 columns):\n",
      " #   Column                      Non-Null Count   Dtype  \n",
      "---  ------                      --------------   -----  \n",
      " 0   User_ID                     783667 non-null  int64  \n",
      " 1   Product_ID                  783667 non-null  object \n",
      " 2   Gender                      783667 non-null  object \n",
      " 3   Age                         783667 non-null  object \n",
      " 4   Occupation                  783667 non-null  int64  \n",
      " 5   City_Category               783667 non-null  object \n",
      " 6   Stay_In_Current_City_Years  783667 non-null  object \n",
      " 7   Marital_Status              783667 non-null  int64  \n",
      " 8   Product_Category_1          783667 non-null  int64  \n",
      " 9   Product_Category_2          537685 non-null  float64\n",
      " 10  Product_Category_3          237858 non-null  float64\n",
      " 11  Purchase                    550068 non-null  float64\n",
      "dtypes: float64(3), int64(4), object(5)\n",
      "memory usage: 77.7+ MB\n"
     ]
    }
   ],
   "source": [
    "data.info()"
   ]
  },
  {
   "cell_type": "code",
   "execution_count": 89,
   "id": "cfa6369c",
   "metadata": {},
   "outputs": [
    {
     "data": {
      "text/plain": [
       "User_ID                            0\n",
       "Product_ID                         0\n",
       "Gender                             0\n",
       "Age                                0\n",
       "Occupation                         0\n",
       "City_Category                      0\n",
       "Stay_In_Current_City_Years         0\n",
       "Marital_Status                     0\n",
       "Product_Category_1                 0\n",
       "Product_Category_2            245982\n",
       "Product_Category_3            545809\n",
       "Purchase                      233599\n",
       "dtype: int64"
      ]
     },
     "execution_count": 89,
     "metadata": {},
     "output_type": "execute_result"
    }
   ],
   "source": [
    "data.isnull().sum()"
   ]
  },
  {
   "cell_type": "code",
   "execution_count": 90,
   "id": "cc8e0741",
   "metadata": {},
   "outputs": [],
   "source": [
    "# Stay in Current City Years\n",
    "# data.Stay_In_Current_City_Years.unique() \n",
    "# pd.to_numeric() -- for numeric conversion\n",
    "\n",
    "data.Stay_In_Current_City_Years = data.Stay_In_Current_City_Years.replace('4+', '4').astype(int)"
   ]
  },
  {
   "cell_type": "code",
   "execution_count": 91,
   "id": "5220bcf3",
   "metadata": {},
   "outputs": [
    {
     "data": {
      "image/png": "[encoded data removed]",
      "text/plain": [
       "<Figure size 640x480 with 1 Axes>"
      ]
     },
     "metadata": {},
     "output_type": "display_data"
    }
   ],
   "source": [
    "# Age\n",
    "data.Age.value_counts().plot(kind = 'bar');"
   ]
  },
  {
   "cell_type": "code",
   "execution_count": 92,
   "id": "f610629c",
   "metadata": {},
   "outputs": [
    {
     "data": {
      "text/html": [
       "<div>\n",
       "<style scoped>\n",
       "    .dataframe tbody tr th:only-of-type {\n",
       "        vertical-align: middle;\n",
       "    }\n",
       "\n",
       "    .dataframe tbody tr th {\n",
       "        vertical-align: top;\n",
       "    }\n",
       "\n",
       "    .dataframe thead th {\n",
       "        text-align: right;\n",
       "    }\n",
       "</style>\n",
       "<table border=\"1\" class=\"dataframe\">\n",
       "  <thead>\n",
       "    <tr style=\"text-align: right;\">\n",
       "      <th></th>\n",
       "      <th>count</th>\n",
       "      <th>mean</th>\n",
       "      <th>std</th>\n",
       "      <th>min</th>\n",
       "      <th>25%</th>\n",
       "      <th>50%</th>\n",
       "      <th>75%</th>\n",
       "      <th>max</th>\n",
       "    </tr>\n",
       "    <tr>\n",
       "      <th>Age</th>\n",
       "      <th></th>\n",
       "      <th></th>\n",
       "      <th></th>\n",
       "      <th></th>\n",
       "      <th></th>\n",
       "      <th></th>\n",
       "      <th></th>\n",
       "      <th></th>\n",
       "    </tr>\n",
       "  </thead>\n",
       "  <tbody>\n",
       "    <tr>\n",
       "      <th>0-17</th>\n",
       "      <td>15102.0</td>\n",
       "      <td>8933.464640</td>\n",
       "      <td>5111.114046</td>\n",
       "      <td>12.0</td>\n",
       "      <td>5328.0</td>\n",
       "      <td>7986.0</td>\n",
       "      <td>11874.0</td>\n",
       "      <td>23955.0</td>\n",
       "    </tr>\n",
       "    <tr>\n",
       "      <th>18-25</th>\n",
       "      <td>99660.0</td>\n",
       "      <td>9169.663606</td>\n",
       "      <td>5034.321997</td>\n",
       "      <td>12.0</td>\n",
       "      <td>5415.0</td>\n",
       "      <td>8027.0</td>\n",
       "      <td>12028.0</td>\n",
       "      <td>23958.0</td>\n",
       "    </tr>\n",
       "    <tr>\n",
       "      <th>26-35</th>\n",
       "      <td>219587.0</td>\n",
       "      <td>9252.690633</td>\n",
       "      <td>5010.527303</td>\n",
       "      <td>12.0</td>\n",
       "      <td>5475.0</td>\n",
       "      <td>8030.0</td>\n",
       "      <td>12047.0</td>\n",
       "      <td>23961.0</td>\n",
       "    </tr>\n",
       "    <tr>\n",
       "      <th>36-45</th>\n",
       "      <td>110013.0</td>\n",
       "      <td>9331.350695</td>\n",
       "      <td>5022.923879</td>\n",
       "      <td>12.0</td>\n",
       "      <td>5876.0</td>\n",
       "      <td>8061.0</td>\n",
       "      <td>12107.0</td>\n",
       "      <td>23960.0</td>\n",
       "    </tr>\n",
       "    <tr>\n",
       "      <th>46-50</th>\n",
       "      <td>45701.0</td>\n",
       "      <td>9208.625697</td>\n",
       "      <td>4967.216367</td>\n",
       "      <td>12.0</td>\n",
       "      <td>5888.0</td>\n",
       "      <td>8036.0</td>\n",
       "      <td>11997.0</td>\n",
       "      <td>23960.0</td>\n",
       "    </tr>\n",
       "    <tr>\n",
       "      <th>51-55</th>\n",
       "      <td>38501.0</td>\n",
       "      <td>9534.808031</td>\n",
       "      <td>5087.368080</td>\n",
       "      <td>12.0</td>\n",
       "      <td>6017.0</td>\n",
       "      <td>8130.0</td>\n",
       "      <td>12462.0</td>\n",
       "      <td>23960.0</td>\n",
       "    </tr>\n",
       "    <tr>\n",
       "      <th>55+</th>\n",
       "      <td>21504.0</td>\n",
       "      <td>9336.280459</td>\n",
       "      <td>5011.493996</td>\n",
       "      <td>12.0</td>\n",
       "      <td>6018.0</td>\n",
       "      <td>8105.5</td>\n",
       "      <td>11932.0</td>\n",
       "      <td>23960.0</td>\n",
       "    </tr>\n",
       "  </tbody>\n",
       "</table>\n",
       "</div>"
      ],
      "text/plain": [
       "          count         mean          std   min     25%     50%      75%  \\\n",
       "Age                                                                        \n",
       "0-17    15102.0  8933.464640  5111.114046  12.0  5328.0  7986.0  11874.0   \n",
       "18-25   99660.0  9169.663606  5034.321997  12.0  5415.0  8027.0  12028.0   \n",
       "26-35  219587.0  9252.690633  5010.527303  12.0  5475.0  8030.0  12047.0   \n",
       "36-45  110013.0  9331.350695  5022.923879  12.0  5876.0  8061.0  12107.0   \n",
       "46-50   45701.0  9208.625697  4967.216367  12.0  5888.0  8036.0  11997.0   \n",
       "51-55   38501.0  9534.808031  5087.368080  12.0  6017.0  8130.0  12462.0   \n",
       "55+     21504.0  9336.280459  5011.493996  12.0  6018.0  8105.5  11932.0   \n",
       "\n",
       "           max  \n",
       "Age             \n",
       "0-17   23955.0  \n",
       "18-25  23958.0  \n",
       "26-35  23961.0  \n",
       "36-45  23960.0  \n",
       "46-50  23960.0  \n",
       "51-55  23960.0  \n",
       "55+    23960.0  "
      ]
     },
     "execution_count": 92,
     "metadata": {},
     "output_type": "execute_result"
    }
   ],
   "source": [
    "data.groupby('Age')['Purchase'].describe()"
   ]
  },
  {
   "cell_type": "code",
   "execution_count": 93,
   "id": "cb9ebb89",
   "metadata": {},
   "outputs": [
    {
     "data": {
      "image/png": "[encoded data removed]",
      "text/plain": [
       "<Figure size 640x480 with 1 Axes>"
      ]
     },
     "metadata": {},
     "output_type": "display_data"
    }
   ],
   "source": [
    "sns.boxplot(x = 'Age', y = 'Purchase', data = data);\n",
    "# Age is proving to be insignificant, let's check it statistically"
   ]
  },
  {
   "cell_type": "code",
   "execution_count": 94,
   "id": "f024ffc7",
   "metadata": {},
   "outputs": [
    {
     "data": {
      "text/html": [
       "<div>\n",
       "<style scoped>\n",
       "    .dataframe tbody tr th:only-of-type {\n",
       "        vertical-align: middle;\n",
       "    }\n",
       "\n",
       "    .dataframe tbody tr th {\n",
       "        vertical-align: top;\n",
       "    }\n",
       "\n",
       "    .dataframe thead th {\n",
       "        text-align: right;\n",
       "    }\n",
       "</style>\n",
       "<table border=\"1\" class=\"dataframe\">\n",
       "  <thead>\n",
       "    <tr style=\"text-align: right;\">\n",
       "      <th></th>\n",
       "      <th>df</th>\n",
       "      <th>sum_sq</th>\n",
       "      <th>mean_sq</th>\n",
       "      <th>F</th>\n",
       "      <th>PR(&gt;F)</th>\n",
       "    </tr>\n",
       "  </thead>\n",
       "  <tbody>\n",
       "    <tr>\n",
       "      <th>data.Age</th>\n",
       "      <td>6.0</td>\n",
       "      <td>6.140003e+09</td>\n",
       "      <td>1.023334e+09</td>\n",
       "      <td>40.575799</td>\n",
       "      <td>1.053564e-49</td>\n",
       "    </tr>\n",
       "    <tr>\n",
       "      <th>Residual</th>\n",
       "      <td>550061.0</td>\n",
       "      <td>1.387270e+13</td>\n",
       "      <td>2.522030e+07</td>\n",
       "      <td>NaN</td>\n",
       "      <td>NaN</td>\n",
       "    </tr>\n",
       "  </tbody>\n",
       "</table>\n",
       "</div>"
      ],
      "text/plain": [
       "                df        sum_sq       mean_sq          F        PR(>F)\n",
       "data.Age       6.0  6.140003e+09  1.023334e+09  40.575799  1.053564e-49\n",
       "Residual  550061.0  1.387270e+13  2.522030e+07        NaN           NaN"
      ]
     },
     "execution_count": 94,
     "metadata": {},
     "output_type": "execute_result"
    }
   ],
   "source": [
    "# H0: Age and Purchase are not Corelated\n",
    "# H1: Age and Purchase is Correlated\n",
    "model = sfa.ols('data.Purchase~data.Age', data).fit()\n",
    "anova_lm(model)\n",
    "# Conclude - Since P_value is less than 0.05, We Reject the null hypothesis: Age and Purchase are\n",
    "# co-releated"
   ]
  },
  {
   "cell_type": "code",
   "execution_count": 95,
   "id": "0d3993ad",
   "metadata": {},
   "outputs": [
    {
     "data": {
      "text/plain": [
       "array(['0-17', '55+', '26-35', '46-50', '51-55', '36-45', '18-25'],\n",
       "      dtype=object)"
      ]
     },
     "execution_count": 95,
     "metadata": {},
     "output_type": "execute_result"
    }
   ],
   "source": [
    "# Age into numbers\n",
    "data.Age.unique()"
   ]
  },
  {
   "cell_type": "code",
   "execution_count": 96,
   "id": "c9401f60",
   "metadata": {},
   "outputs": [],
   "source": [
    "data['numeric_Age'] = data.Age.replace({'0-17': (0+17)/2,'18-25': (18+25)/2 ,\n",
    "                                        '26-35' : (26+35)/2,'36-45': (36+45)/2, \n",
    "                                        '46-50' : (46+50)/2, '51-55' : (51+55)/2,\n",
    "                                        '55+' : '56'}).astype(float)"
   ]
  },
  {
   "cell_type": "code",
   "execution_count": 99,
   "id": "ca3984e2",
   "metadata": {},
   "outputs": [
    {
     "data": {
      "text/plain": [
       "0"
      ]
     },
     "execution_count": 99,
     "metadata": {},
     "output_type": "execute_result"
    }
   ],
   "source": [
    "data.numeric_Age.isnull().sum()"
   ]
  },
  {
   "cell_type": "code",
   "execution_count": 120,
   "id": "1bb90b06",
   "metadata": {},
   "outputs": [
    {
     "data": {
      "text/plain": [
       "Ttest_indResult(statistic=nan, pvalue=nan)"
      ]
     },
     "execution_count": 120,
     "metadata": {},
     "output_type": "execute_result"
    }
   ],
   "source": [
    "# Let's Statsically verify if Age and Purchase has any relation\n",
    "# H0: Age and Purchase are Independent\n",
    "# H1: Age and Purchase are Dependent\n",
    "\n",
    "# Two Sample Independent T-test\n",
    "stats.ttest_ind(data.numeric_Age, data.Purchase) \n",
    "# Purchase has some missing value, before verifying it statistically let's treat the missing \n",
    "# value of Purchase"
   ]
  },
  {
   "cell_type": "code",
   "execution_count": 116,
   "id": "69d3ad93",
   "metadata": {},
   "outputs": [
    {
     "data": {
      "image/png": "[encoded data removed]",
      "text/plain": [
       "<Figure size 640x480 with 1 Axes>"
      ]
     },
     "metadata": {},
     "output_type": "display_data"
    }
   ],
   "source": [
    "sns.scatterplot(x = data.numeric_Age, y = data.Purchase);"
   ]
  },
  {
   "cell_type": "code",
   "execution_count": 145,
   "id": "da9052b7",
   "metadata": {},
   "outputs": [],
   "source": [
    "#for a,b in data.loc[data['Age'] != '55+', 'Age'].str.split('-'):\n",
    "  #  print((pd.to_numeric(a) + pd.to_numeric(b))/2)"
   ]
  },
  {
   "cell_type": "code",
   "execution_count": null,
   "id": "6944dd4d",
   "metadata": {},
   "outputs": [],
   "source": [
    "from ydata_profiling import ProfileReport\n"
   ]
  },
  {
   "cell_type": "code",
   "execution_count": 150,
   "id": "6305989e",
   "metadata": {},
   "outputs": [
    {
     "data": {
      "text/plain": [
       "<Figure size 1000x1000 with 0 Axes>"
      ]
     },
     "metadata": {},
     "output_type": "display_data"
    },
    {
     "data": {
      "image/png": "[encoded data removed]",
      "text/plain": [
       "<Figure size 640x480 with 9 Axes>"
      ]
     },
     "metadata": {},
     "output_type": "display_data"
    }
   ],
   "source": [
    "# Numerical Variable\n",
    "plt.figure(figsize = (10,10))\n",
    "data.hist()\n",
    "plt.tight_layout()\n",
    "plt.show()"
   ]
  },
  {
   "cell_type": "code",
   "execution_count": 152,
   "id": "fb5999e6",
   "metadata": {
    "scrolled": true
   },
   "outputs": [
    {
     "data": {
      "text/plain": [
       "1001680    1468\n",
       "1004277    1384\n",
       "1001941    1286\n",
       "1001181    1230\n",
       "1000889    1204\n",
       "           ... \n",
       "1000341      13\n",
       "1003275      13\n",
       "1002037      13\n",
       "1004991      13\n",
       "1006034      13\n",
       "Name: User_ID, Length: 5891, dtype: int64"
      ]
     },
     "execution_count": 152,
     "metadata": {},
     "output_type": "execute_result"
    }
   ],
   "source": [
    "data.User_ID.value_counts()"
   ]
  },
  {
   "cell_type": "code",
   "execution_count": 156,
   "id": "e9030692",
   "metadata": {},
   "outputs": [
    {
     "data": {
      "text/plain": [
       "P00265242    2709\n",
       "P00025442    2310\n",
       "P00110742    2292\n",
       "P00112142    2279\n",
       "P00046742    2084\n",
       "             ... \n",
       "P00185942       1\n",
       "P00104342       1\n",
       "P00074742       1\n",
       "P00081342       1\n",
       "P00253842       1\n",
       "Name: Product_ID, Length: 3677, dtype: int64"
      ]
     },
     "execution_count": 156,
     "metadata": {},
     "output_type": "execute_result"
    }
   ],
   "source": [
    "data.Product_ID.value_counts()"
   ]
  },
  {
   "cell_type": "code",
   "execution_count": 153,
   "id": "26a0ac2b",
   "metadata": {
    "scrolled": true
   },
   "outputs": [
    {
     "data": {
      "text/html": [
       "<div>\n",
       "<style scoped>\n",
       "    .dataframe tbody tr th:only-of-type {\n",
       "        vertical-align: middle;\n",
       "    }\n",
       "\n",
       "    .dataframe tbody tr th {\n",
       "        vertical-align: top;\n",
       "    }\n",
       "\n",
       "    .dataframe thead th {\n",
       "        text-align: right;\n",
       "    }\n",
       "</style>\n",
       "<table border=\"1\" class=\"dataframe\">\n",
       "  <thead>\n",
       "    <tr style=\"text-align: right;\">\n",
       "      <th></th>\n",
       "      <th>User_ID</th>\n",
       "      <th>Product_ID</th>\n",
       "      <th>Gender</th>\n",
       "      <th>Age</th>\n",
       "      <th>Occupation</th>\n",
       "      <th>City_Category</th>\n",
       "      <th>Stay_In_Current_City_Years</th>\n",
       "      <th>Marital_Status</th>\n",
       "      <th>Product_Category_1</th>\n",
       "      <th>Product_Category_2</th>\n",
       "      <th>Product_Category_3</th>\n",
       "      <th>Purchase</th>\n",
       "      <th>numeric_Age</th>\n",
       "    </tr>\n",
       "  </thead>\n",
       "  <tbody>\n",
       "    <tr>\n",
       "      <th>11055</th>\n",
       "      <td>1001680</td>\n",
       "      <td>P00036742</td>\n",
       "      <td>M</td>\n",
       "      <td>26-35</td>\n",
       "      <td>20</td>\n",
       "      <td>A</td>\n",
       "      <td>3</td>\n",
       "      <td>1</td>\n",
       "      <td>1</td>\n",
       "      <td>16.0</td>\n",
       "      <td>NaN</td>\n",
       "      <td>15670.0</td>\n",
       "      <td>30.5</td>\n",
       "    </tr>\n",
       "    <tr>\n",
       "      <th>11056</th>\n",
       "      <td>1001680</td>\n",
       "      <td>P00130642</td>\n",
       "      <td>M</td>\n",
       "      <td>26-35</td>\n",
       "      <td>20</td>\n",
       "      <td>A</td>\n",
       "      <td>3</td>\n",
       "      <td>1</td>\n",
       "      <td>11</td>\n",
       "      <td>16.0</td>\n",
       "      <td>NaN</td>\n",
       "      <td>6139.0</td>\n",
       "      <td>30.5</td>\n",
       "    </tr>\n",
       "    <tr>\n",
       "      <th>11057</th>\n",
       "      <td>1001680</td>\n",
       "      <td>P00105442</td>\n",
       "      <td>M</td>\n",
       "      <td>26-35</td>\n",
       "      <td>20</td>\n",
       "      <td>A</td>\n",
       "      <td>3</td>\n",
       "      <td>1</td>\n",
       "      <td>11</td>\n",
       "      <td>NaN</td>\n",
       "      <td>NaN</td>\n",
       "      <td>7607.0</td>\n",
       "      <td>30.5</td>\n",
       "    </tr>\n",
       "    <tr>\n",
       "      <th>11058</th>\n",
       "      <td>1001680</td>\n",
       "      <td>P00245642</td>\n",
       "      <td>M</td>\n",
       "      <td>26-35</td>\n",
       "      <td>20</td>\n",
       "      <td>A</td>\n",
       "      <td>3</td>\n",
       "      <td>1</td>\n",
       "      <td>5</td>\n",
       "      <td>11.0</td>\n",
       "      <td>12.0</td>\n",
       "      <td>8715.0</td>\n",
       "      <td>30.5</td>\n",
       "    </tr>\n",
       "    <tr>\n",
       "      <th>11059</th>\n",
       "      <td>1001680</td>\n",
       "      <td>P00123342</td>\n",
       "      <td>M</td>\n",
       "      <td>26-35</td>\n",
       "      <td>20</td>\n",
       "      <td>A</td>\n",
       "      <td>3</td>\n",
       "      <td>1</td>\n",
       "      <td>11</td>\n",
       "      <td>NaN</td>\n",
       "      <td>NaN</td>\n",
       "      <td>4472.0</td>\n",
       "      <td>30.5</td>\n",
       "    </tr>\n",
       "    <tr>\n",
       "      <th>...</th>\n",
       "      <td>...</td>\n",
       "      <td>...</td>\n",
       "      <td>...</td>\n",
       "      <td>...</td>\n",
       "      <td>...</td>\n",
       "      <td>...</td>\n",
       "      <td>...</td>\n",
       "      <td>...</td>\n",
       "      <td>...</td>\n",
       "      <td>...</td>\n",
       "      <td>...</td>\n",
       "      <td>...</td>\n",
       "      <td>...</td>\n",
       "    </tr>\n",
       "    <tr>\n",
       "      <th>230813</th>\n",
       "      <td>1001680</td>\n",
       "      <td>P00278142</td>\n",
       "      <td>M</td>\n",
       "      <td>26-35</td>\n",
       "      <td>20</td>\n",
       "      <td>A</td>\n",
       "      <td>3</td>\n",
       "      <td>1</td>\n",
       "      <td>11</td>\n",
       "      <td>16.0</td>\n",
       "      <td>NaN</td>\n",
       "      <td>NaN</td>\n",
       "      <td>30.5</td>\n",
       "    </tr>\n",
       "    <tr>\n",
       "      <th>230814</th>\n",
       "      <td>1001680</td>\n",
       "      <td>P00290042</td>\n",
       "      <td>M</td>\n",
       "      <td>26-35</td>\n",
       "      <td>20</td>\n",
       "      <td>A</td>\n",
       "      <td>3</td>\n",
       "      <td>1</td>\n",
       "      <td>8</td>\n",
       "      <td>NaN</td>\n",
       "      <td>NaN</td>\n",
       "      <td>NaN</td>\n",
       "      <td>30.5</td>\n",
       "    </tr>\n",
       "    <tr>\n",
       "      <th>230815</th>\n",
       "      <td>1001680</td>\n",
       "      <td>P00257542</td>\n",
       "      <td>M</td>\n",
       "      <td>26-35</td>\n",
       "      <td>20</td>\n",
       "      <td>A</td>\n",
       "      <td>3</td>\n",
       "      <td>1</td>\n",
       "      <td>5</td>\n",
       "      <td>NaN</td>\n",
       "      <td>NaN</td>\n",
       "      <td>NaN</td>\n",
       "      <td>30.5</td>\n",
       "    </tr>\n",
       "    <tr>\n",
       "      <th>230816</th>\n",
       "      <td>1001680</td>\n",
       "      <td>P00258242</td>\n",
       "      <td>M</td>\n",
       "      <td>26-35</td>\n",
       "      <td>20</td>\n",
       "      <td>A</td>\n",
       "      <td>3</td>\n",
       "      <td>1</td>\n",
       "      <td>5</td>\n",
       "      <td>NaN</td>\n",
       "      <td>NaN</td>\n",
       "      <td>NaN</td>\n",
       "      <td>30.5</td>\n",
       "    </tr>\n",
       "    <tr>\n",
       "      <th>230817</th>\n",
       "      <td>1001680</td>\n",
       "      <td>P00187942</td>\n",
       "      <td>M</td>\n",
       "      <td>26-35</td>\n",
       "      <td>20</td>\n",
       "      <td>A</td>\n",
       "      <td>3</td>\n",
       "      <td>1</td>\n",
       "      <td>4</td>\n",
       "      <td>8.0</td>\n",
       "      <td>NaN</td>\n",
       "      <td>NaN</td>\n",
       "      <td>30.5</td>\n",
       "    </tr>\n",
       "  </tbody>\n",
       "</table>\n",
       "<p>1468 rows × 13 columns</p>\n",
       "</div>"
      ],
      "text/plain": [
       "        User_ID Product_ID Gender    Age  Occupation City_Category  \\\n",
       "11055   1001680  P00036742      M  26-35          20             A   \n",
       "11056   1001680  P00130642      M  26-35          20             A   \n",
       "11057   1001680  P00105442      M  26-35          20             A   \n",
       "11058   1001680  P00245642      M  26-35          20             A   \n",
       "11059   1001680  P00123342      M  26-35          20             A   \n",
       "...         ...        ...    ...    ...         ...           ...   \n",
       "230813  1001680  P00278142      M  26-35          20             A   \n",
       "230814  1001680  P00290042      M  26-35          20             A   \n",
       "230815  1001680  P00257542      M  26-35          20             A   \n",
       "230816  1001680  P00258242      M  26-35          20             A   \n",
       "230817  1001680  P00187942      M  26-35          20             A   \n",
       "\n",
       "        Stay_In_Current_City_Years  Marital_Status  Product_Category_1  \\\n",
       "11055                            3               1                   1   \n",
       "11056                            3               1                  11   \n",
       "11057                            3               1                  11   \n",
       "11058                            3               1                   5   \n",
       "11059                            3               1                  11   \n",
       "...                            ...             ...                 ...   \n",
       "230813                           3               1                  11   \n",
       "230814                           3               1                   8   \n",
       "230815                           3               1                   5   \n",
       "230816                           3               1                   5   \n",
       "230817                           3               1                   4   \n",
       "\n",
       "        Product_Category_2  Product_Category_3  Purchase  numeric_Age  \n",
       "11055                 16.0                 NaN   15670.0         30.5  \n",
       "11056                 16.0                 NaN    6139.0         30.5  \n",
       "11057                  NaN                 NaN    7607.0         30.5  \n",
       "11058                 11.0                12.0    8715.0         30.5  \n",
       "11059                  NaN                 NaN    4472.0         30.5  \n",
       "...                    ...                 ...       ...          ...  \n",
       "230813                16.0                 NaN       NaN         30.5  \n",
       "230814                 NaN                 NaN       NaN         30.5  \n",
       "230815                 NaN                 NaN       NaN         30.5  \n",
       "230816                 NaN                 NaN       NaN         30.5  \n",
       "230817                 8.0                 NaN       NaN         30.5  \n",
       "\n",
       "[1468 rows x 13 columns]"
      ]
     },
     "execution_count": 153,
     "metadata": {},
     "output_type": "execute_result"
    }
   ],
   "source": [
    "data.loc[data['User_ID'] == 1001680]"
   ]
  },
  {
   "cell_type": "code",
   "execution_count": 154,
   "id": "57585c4b",
   "metadata": {
    "scrolled": true
   },
   "outputs": [
    {
     "data": {
      "text/html": [
       "<div>\n",
       "<style scoped>\n",
       "    .dataframe tbody tr th:only-of-type {\n",
       "        vertical-align: middle;\n",
       "    }\n",
       "\n",
       "    .dataframe tbody tr th {\n",
       "        vertical-align: top;\n",
       "    }\n",
       "\n",
       "    .dataframe thead th {\n",
       "        text-align: right;\n",
       "    }\n",
       "</style>\n",
       "<table border=\"1\" class=\"dataframe\">\n",
       "  <thead>\n",
       "    <tr style=\"text-align: right;\">\n",
       "      <th></th>\n",
       "      <th>count</th>\n",
       "      <th>mean</th>\n",
       "      <th>std</th>\n",
       "      <th>min</th>\n",
       "      <th>25%</th>\n",
       "      <th>50%</th>\n",
       "      <th>75%</th>\n",
       "      <th>max</th>\n",
       "    </tr>\n",
       "    <tr>\n",
       "      <th>Product_ID</th>\n",
       "      <th></th>\n",
       "      <th></th>\n",
       "      <th></th>\n",
       "      <th></th>\n",
       "      <th></th>\n",
       "      <th></th>\n",
       "      <th></th>\n",
       "      <th></th>\n",
       "    </tr>\n",
       "  </thead>\n",
       "  <tbody>\n",
       "    <tr>\n",
       "      <th>P00000142</th>\n",
       "      <td>1152.0</td>\n",
       "      <td>11143.642361</td>\n",
       "      <td>2305.175261</td>\n",
       "      <td>2725.0</td>\n",
       "      <td>10591.75</td>\n",
       "      <td>10927.0</td>\n",
       "      <td>13379.25</td>\n",
       "      <td>13716.0</td>\n",
       "    </tr>\n",
       "    <tr>\n",
       "      <th>P00000242</th>\n",
       "      <td>376.0</td>\n",
       "      <td>10551.851064</td>\n",
       "      <td>3170.603417</td>\n",
       "      <td>3214.0</td>\n",
       "      <td>9588.00</td>\n",
       "      <td>10023.0</td>\n",
       "      <td>13029.00</td>\n",
       "      <td>16503.0</td>\n",
       "    </tr>\n",
       "    <tr>\n",
       "      <th>P00000342</th>\n",
       "      <td>244.0</td>\n",
       "      <td>5313.422131</td>\n",
       "      <td>1824.925693</td>\n",
       "      <td>1727.0</td>\n",
       "      <td>3702.75</td>\n",
       "      <td>5287.0</td>\n",
       "      <td>6928.75</td>\n",
       "      <td>8896.0</td>\n",
       "    </tr>\n",
       "    <tr>\n",
       "      <th>P00000442</th>\n",
       "      <td>92.0</td>\n",
       "      <td>4795.358696</td>\n",
       "      <td>1664.088125</td>\n",
       "      <td>1764.0</td>\n",
       "      <td>3599.75</td>\n",
       "      <td>5194.0</td>\n",
       "      <td>5394.75</td>\n",
       "      <td>8891.0</td>\n",
       "    </tr>\n",
       "    <tr>\n",
       "      <th>P00000542</th>\n",
       "      <td>149.0</td>\n",
       "      <td>5417.530201</td>\n",
       "      <td>1724.458154</td>\n",
       "      <td>1730.0</td>\n",
       "      <td>3750.00</td>\n",
       "      <td>5376.0</td>\n",
       "      <td>6955.00</td>\n",
       "      <td>8903.0</td>\n",
       "    </tr>\n",
       "    <tr>\n",
       "      <th>...</th>\n",
       "      <td>...</td>\n",
       "      <td>...</td>\n",
       "      <td>...</td>\n",
       "      <td>...</td>\n",
       "      <td>...</td>\n",
       "      <td>...</td>\n",
       "      <td>...</td>\n",
       "      <td>...</td>\n",
       "    </tr>\n",
       "    <tr>\n",
       "      <th>P0099542</th>\n",
       "      <td>0.0</td>\n",
       "      <td>NaN</td>\n",
       "      <td>NaN</td>\n",
       "      <td>NaN</td>\n",
       "      <td>NaN</td>\n",
       "      <td>NaN</td>\n",
       "      <td>NaN</td>\n",
       "      <td>NaN</td>\n",
       "    </tr>\n",
       "    <tr>\n",
       "      <th>P0099642</th>\n",
       "      <td>13.0</td>\n",
       "      <td>6439.230769</td>\n",
       "      <td>2108.412442</td>\n",
       "      <td>3903.0</td>\n",
       "      <td>4222.00</td>\n",
       "      <td>5972.0</td>\n",
       "      <td>7862.00</td>\n",
       "      <td>10056.0</td>\n",
       "    </tr>\n",
       "    <tr>\n",
       "      <th>P0099742</th>\n",
       "      <td>126.0</td>\n",
       "      <td>7872.603175</td>\n",
       "      <td>2921.579042</td>\n",
       "      <td>2670.0</td>\n",
       "      <td>5626.00</td>\n",
       "      <td>8183.5</td>\n",
       "      <td>10636.75</td>\n",
       "      <td>13661.0</td>\n",
       "    </tr>\n",
       "    <tr>\n",
       "      <th>P0099842</th>\n",
       "      <td>102.0</td>\n",
       "      <td>7228.549020</td>\n",
       "      <td>1627.706572</td>\n",
       "      <td>1735.0</td>\n",
       "      <td>6926.75</td>\n",
       "      <td>7129.0</td>\n",
       "      <td>8664.75</td>\n",
       "      <td>8891.0</td>\n",
       "    </tr>\n",
       "    <tr>\n",
       "      <th>P0099942</th>\n",
       "      <td>14.0</td>\n",
       "      <td>5572.785714</td>\n",
       "      <td>2009.364277</td>\n",
       "      <td>1791.0</td>\n",
       "      <td>5210.00</td>\n",
       "      <td>5384.5</td>\n",
       "      <td>7016.50</td>\n",
       "      <td>8833.0</td>\n",
       "    </tr>\n",
       "  </tbody>\n",
       "</table>\n",
       "<p>3677 rows × 8 columns</p>\n",
       "</div>"
      ],
      "text/plain": [
       "             count          mean          std     min       25%      50%  \\\n",
       "Product_ID                                                                 \n",
       "P00000142   1152.0  11143.642361  2305.175261  2725.0  10591.75  10927.0   \n",
       "P00000242    376.0  10551.851064  3170.603417  3214.0   9588.00  10023.0   \n",
       "P00000342    244.0   5313.422131  1824.925693  1727.0   3702.75   5287.0   \n",
       "P00000442     92.0   4795.358696  1664.088125  1764.0   3599.75   5194.0   \n",
       "P00000542    149.0   5417.530201  1724.458154  1730.0   3750.00   5376.0   \n",
       "...            ...           ...          ...     ...       ...      ...   \n",
       "P0099542       0.0           NaN          NaN     NaN       NaN      NaN   \n",
       "P0099642      13.0   6439.230769  2108.412442  3903.0   4222.00   5972.0   \n",
       "P0099742     126.0   7872.603175  2921.579042  2670.0   5626.00   8183.5   \n",
       "P0099842     102.0   7228.549020  1627.706572  1735.0   6926.75   7129.0   \n",
       "P0099942      14.0   5572.785714  2009.364277  1791.0   5210.00   5384.5   \n",
       "\n",
       "                 75%      max  \n",
       "Product_ID                     \n",
       "P00000142   13379.25  13716.0  \n",
       "P00000242   13029.00  16503.0  \n",
       "P00000342    6928.75   8896.0  \n",
       "P00000442    5394.75   8891.0  \n",
       "P00000542    6955.00   8903.0  \n",
       "...              ...      ...  \n",
       "P0099542         NaN      NaN  \n",
       "P0099642     7862.00  10056.0  \n",
       "P0099742    10636.75  13661.0  \n",
       "P0099842     8664.75   8891.0  \n",
       "P0099942     7016.50   8833.0  \n",
       "\n",
       "[3677 rows x 8 columns]"
      ]
     },
     "execution_count": 154,
     "metadata": {},
     "output_type": "execute_result"
    }
   ],
   "source": [
    "data.groupby('Product_ID')['Purchase'].describe()"
   ]
  },
  {
   "cell_type": "markdown",
   "id": "42304911",
   "metadata": {},
   "source": [
    "### Feature Enginnering"
   ]
  },
  {
   "cell_type": "code",
   "execution_count": 171,
   "id": "87ffff82",
   "metadata": {},
   "outputs": [],
   "source": [
    "newtrain = data.iloc[0:train_data.shape[0], ]\n",
    "newtest = data.iloc[train_data.shape[0]:, ]"
   ]
  },
  {
   "cell_type": "code",
   "execution_count": 172,
   "id": "b25dbaaf",
   "metadata": {
    "scrolled": true
   },
   "outputs": [
    {
     "data": {
      "text/plain": [
       "((550068, 13), (550068, 12), (233599, 13), (233599, 11), (783667, 13))"
      ]
     },
     "execution_count": 172,
     "metadata": {},
     "output_type": "execute_result"
    }
   ],
   "source": [
    "newtrain.shape, train_data.shape, newtest.shape, test_data.shape, data.shape"
   ]
  },
  {
   "cell_type": "code",
   "execution_count": 178,
   "id": "efbfb9e2",
   "metadata": {
    "scrolled": true
   },
   "outputs": [
    {
     "name": "stderr",
     "output_type": "stream",
     "text": [
      "/var/folders/ww/s582n_2j1z98f1zx70j5c6pc0000gn/T/ipykernel_56164/2739284821.py:1: SettingWithCopyWarning: \n",
      "A value is trying to be set on a copy of a slice from a DataFrame.\n",
      "Try using .loc[row_indexer,col_indexer] = value instead\n",
      "\n",
      "See the caveats in the documentation: https://pandas.pydata.org/pandas-docs/stable/user_guide/indexing.html#returning-a-view-versus-a-copy\n",
      "  newtrain['product_count'] = newtrain.groupby('Product_ID')['Purchase'].transform('count')\n",
      "/var/folders/ww/s582n_2j1z98f1zx70j5c6pc0000gn/T/ipykernel_56164/2739284821.py:2: SettingWithCopyWarning: \n",
      "A value is trying to be set on a copy of a slice from a DataFrame.\n",
      "Try using .loc[row_indexer,col_indexer] = value instead\n",
      "\n",
      "See the caveats in the documentation: https://pandas.pydata.org/pandas-docs/stable/user_guide/indexing.html#returning-a-view-versus-a-copy\n",
      "  newtrain['product_min'] = newtrain.groupby('Product_ID')['Purchase'].transform('min')\n",
      "/var/folders/ww/s582n_2j1z98f1zx70j5c6pc0000gn/T/ipykernel_56164/2739284821.py:3: SettingWithCopyWarning: \n",
      "A value is trying to be set on a copy of a slice from a DataFrame.\n",
      "Try using .loc[row_indexer,col_indexer] = value instead\n",
      "\n",
      "See the caveats in the documentation: https://pandas.pydata.org/pandas-docs/stable/user_guide/indexing.html#returning-a-view-versus-a-copy\n",
      "  newtrain['product_max'] = newtrain.groupby('Product_ID')['Purchase'].transform('max')\n",
      "/var/folders/ww/s582n_2j1z98f1zx70j5c6pc0000gn/T/ipykernel_56164/2739284821.py:4: SettingWithCopyWarning: \n",
      "A value is trying to be set on a copy of a slice from a DataFrame.\n",
      "Try using .loc[row_indexer,col_indexer] = value instead\n",
      "\n",
      "See the caveats in the documentation: https://pandas.pydata.org/pandas-docs/stable/user_guide/indexing.html#returning-a-view-versus-a-copy\n",
      "  newtrain['product_std'] = newtrain.groupby('Product_ID')['Purchase'].transform('std')\n",
      "/var/folders/ww/s582n_2j1z98f1zx70j5c6pc0000gn/T/ipykernel_56164/2739284821.py:5: SettingWithCopyWarning: \n",
      "A value is trying to be set on a copy of a slice from a DataFrame.\n",
      "Try using .loc[row_indexer,col_indexer] = value instead\n",
      "\n",
      "See the caveats in the documentation: https://pandas.pydata.org/pandas-docs/stable/user_guide/indexing.html#returning-a-view-versus-a-copy\n",
      "  newtrain['product_mean'] = newtrain.groupby('Product_ID')['Purchase'].transform('mean')\n",
      "/var/folders/ww/s582n_2j1z98f1zx70j5c6pc0000gn/T/ipykernel_56164/2739284821.py:6: SettingWithCopyWarning: \n",
      "A value is trying to be set on a copy of a slice from a DataFrame.\n",
      "Try using .loc[row_indexer,col_indexer] = value instead\n",
      "\n",
      "See the caveats in the documentation: https://pandas.pydata.org/pandas-docs/stable/user_guide/indexing.html#returning-a-view-versus-a-copy\n",
      "  newtrain['product_median'] = newtrain.groupby('Product_ID')['Purchase'].transform('median')\n"
     ]
    }
   ],
   "source": [
    "newtrain['product_count'] = newtrain.groupby('Product_ID')['Purchase'].transform('count')\n",
    "newtrain['product_min'] = newtrain.groupby('Product_ID')['Purchase'].transform('min')\n",
    "newtrain['product_max'] = newtrain.groupby('Product_ID')['Purchase'].transform('max')\n",
    "newtrain['product_std'] = newtrain.groupby('Product_ID')['Purchase'].transform('std')\n",
    "newtrain['product_mean'] = newtrain.groupby('Product_ID')['Purchase'].transform('mean')\n",
    "newtrain['product_median'] = newtrain.groupby('Product_ID')['Purchase'].transform('median')"
   ]
  },
  {
   "cell_type": "code",
   "execution_count": 179,
   "id": "f936b086",
   "metadata": {
    "scrolled": true
   },
   "outputs": [
    {
     "name": "stderr",
     "output_type": "stream",
     "text": [
      "/var/folders/ww/s582n_2j1z98f1zx70j5c6pc0000gn/T/ipykernel_56164/3293379612.py:1: SettingWithCopyWarning: \n",
      "A value is trying to be set on a copy of a slice from a DataFrame.\n",
      "Try using .loc[row_indexer,col_indexer] = value instead\n",
      "\n",
      "See the caveats in the documentation: https://pandas.pydata.org/pandas-docs/stable/user_guide/indexing.html#returning-a-view-versus-a-copy\n",
      "  newtest['product_count'] = newtrain.groupby('Product_ID')['Purchase'].transform('count')\n",
      "/var/folders/ww/s582n_2j1z98f1zx70j5c6pc0000gn/T/ipykernel_56164/3293379612.py:2: SettingWithCopyWarning: \n",
      "A value is trying to be set on a copy of a slice from a DataFrame.\n",
      "Try using .loc[row_indexer,col_indexer] = value instead\n",
      "\n",
      "See the caveats in the documentation: https://pandas.pydata.org/pandas-docs/stable/user_guide/indexing.html#returning-a-view-versus-a-copy\n",
      "  newtest['product_min'] = newtrain.groupby('Product_ID')['Purchase'].transform('min')\n",
      "/var/folders/ww/s582n_2j1z98f1zx70j5c6pc0000gn/T/ipykernel_56164/3293379612.py:3: SettingWithCopyWarning: \n",
      "A value is trying to be set on a copy of a slice from a DataFrame.\n",
      "Try using .loc[row_indexer,col_indexer] = value instead\n",
      "\n",
      "See the caveats in the documentation: https://pandas.pydata.org/pandas-docs/stable/user_guide/indexing.html#returning-a-view-versus-a-copy\n",
      "  newtest['product_max'] = newtrain.groupby('Product_ID')['Purchase'].transform('max')\n",
      "/var/folders/ww/s582n_2j1z98f1zx70j5c6pc0000gn/T/ipykernel_56164/3293379612.py:4: SettingWithCopyWarning: \n",
      "A value is trying to be set on a copy of a slice from a DataFrame.\n",
      "Try using .loc[row_indexer,col_indexer] = value instead\n",
      "\n",
      "See the caveats in the documentation: https://pandas.pydata.org/pandas-docs/stable/user_guide/indexing.html#returning-a-view-versus-a-copy\n",
      "  newtest['product_std'] = newtrain.groupby('Product_ID')['Purchase'].transform('std')\n",
      "/var/folders/ww/s582n_2j1z98f1zx70j5c6pc0000gn/T/ipykernel_56164/3293379612.py:5: SettingWithCopyWarning: \n",
      "A value is trying to be set on a copy of a slice from a DataFrame.\n",
      "Try using .loc[row_indexer,col_indexer] = value instead\n",
      "\n",
      "See the caveats in the documentation: https://pandas.pydata.org/pandas-docs/stable/user_guide/indexing.html#returning-a-view-versus-a-copy\n",
      "  newtest['product_mean'] = newtrain.groupby('Product_ID')['Purchase'].transform('mean')\n",
      "/var/folders/ww/s582n_2j1z98f1zx70j5c6pc0000gn/T/ipykernel_56164/3293379612.py:6: SettingWithCopyWarning: \n",
      "A value is trying to be set on a copy of a slice from a DataFrame.\n",
      "Try using .loc[row_indexer,col_indexer] = value instead\n",
      "\n",
      "See the caveats in the documentation: https://pandas.pydata.org/pandas-docs/stable/user_guide/indexing.html#returning-a-view-versus-a-copy\n",
      "  newtest['product_median'] = newtrain.groupby('Product_ID')['Purchase'].transform('median')\n"
     ]
    }
   ],
   "source": [
    "newtest['product_count'] = newtrain.groupby('Product_ID')['Purchase'].transform('count')\n",
    "newtest['product_min'] = newtrain.groupby('Product_ID')['Purchase'].transform('min')\n",
    "newtest['product_max'] = newtrain.groupby('Product_ID')['Purchase'].transform('max')\n",
    "newtest['product_std'] = newtrain.groupby('Product_ID')['Purchase'].transform('std')\n",
    "newtest['product_mean'] = newtrain.groupby('Product_ID')['Purchase'].transform('mean')\n",
    "newtest['product_median'] = newtrain.groupby('Product_ID')['Purchase'].transform('median')"
   ]
  },
  {
   "cell_type": "code",
   "execution_count": 180,
   "id": "2b9cbc1d",
   "metadata": {},
   "outputs": [
    {
     "name": "stderr",
     "output_type": "stream",
     "text": [
      "/var/folders/ww/s582n_2j1z98f1zx70j5c6pc0000gn/T/ipykernel_56164/1079504740.py:1: SettingWithCopyWarning: \n",
      "A value is trying to be set on a copy of a slice from a DataFrame.\n",
      "Try using .loc[row_indexer,col_indexer] = value instead\n",
      "\n",
      "See the caveats in the documentation: https://pandas.pydata.org/pandas-docs/stable/user_guide/indexing.html#returning-a-view-versus-a-copy\n",
      "  newtrain['user_count'] = newtrain.groupby('User_ID')['Purchase'].transform('count')\n",
      "/var/folders/ww/s582n_2j1z98f1zx70j5c6pc0000gn/T/ipykernel_56164/1079504740.py:2: SettingWithCopyWarning: \n",
      "A value is trying to be set on a copy of a slice from a DataFrame.\n",
      "Try using .loc[row_indexer,col_indexer] = value instead\n",
      "\n",
      "See the caveats in the documentation: https://pandas.pydata.org/pandas-docs/stable/user_guide/indexing.html#returning-a-view-versus-a-copy\n",
      "  newtrain['user_min'] = newtrain.groupby('User_ID')['Purchase'].transform('min')\n",
      "/var/folders/ww/s582n_2j1z98f1zx70j5c6pc0000gn/T/ipykernel_56164/1079504740.py:3: SettingWithCopyWarning: \n",
      "A value is trying to be set on a copy of a slice from a DataFrame.\n",
      "Try using .loc[row_indexer,col_indexer] = value instead\n",
      "\n",
      "See the caveats in the documentation: https://pandas.pydata.org/pandas-docs/stable/user_guide/indexing.html#returning-a-view-versus-a-copy\n",
      "  newtrain['user_max'] = newtrain.groupby('User_ID')['Purchase'].transform('max')\n",
      "/var/folders/ww/s582n_2j1z98f1zx70j5c6pc0000gn/T/ipykernel_56164/1079504740.py:4: SettingWithCopyWarning: \n",
      "A value is trying to be set on a copy of a slice from a DataFrame.\n",
      "Try using .loc[row_indexer,col_indexer] = value instead\n",
      "\n",
      "See the caveats in the documentation: https://pandas.pydata.org/pandas-docs/stable/user_guide/indexing.html#returning-a-view-versus-a-copy\n",
      "  newtrain['user_std'] = newtrain.groupby('User_ID')['Purchase'].transform('std')\n",
      "/var/folders/ww/s582n_2j1z98f1zx70j5c6pc0000gn/T/ipykernel_56164/1079504740.py:5: SettingWithCopyWarning: \n",
      "A value is trying to be set on a copy of a slice from a DataFrame.\n",
      "Try using .loc[row_indexer,col_indexer] = value instead\n",
      "\n",
      "See the caveats in the documentation: https://pandas.pydata.org/pandas-docs/stable/user_guide/indexing.html#returning-a-view-versus-a-copy\n",
      "  newtrain['user_mean'] = newtrain.groupby('User_ID')['Purchase'].transform('mean')\n",
      "/var/folders/ww/s582n_2j1z98f1zx70j5c6pc0000gn/T/ipykernel_56164/1079504740.py:6: SettingWithCopyWarning: \n",
      "A value is trying to be set on a copy of a slice from a DataFrame.\n",
      "Try using .loc[row_indexer,col_indexer] = value instead\n",
      "\n",
      "See the caveats in the documentation: https://pandas.pydata.org/pandas-docs/stable/user_guide/indexing.html#returning-a-view-versus-a-copy\n",
      "  newtrain['user_median'] = newtrain.groupby('User_ID')['Purchase'].transform('median')\n"
     ]
    }
   ],
   "source": [
    "newtrain['user_count'] = newtrain.groupby('User_ID')['Purchase'].transform('count')\n",
    "newtrain['user_min'] = newtrain.groupby('User_ID')['Purchase'].transform('min')\n",
    "newtrain['user_max'] = newtrain.groupby('User_ID')['Purchase'].transform('max')\n",
    "newtrain['user_std'] = newtrain.groupby('User_ID')['Purchase'].transform('std')\n",
    "newtrain['user_mean'] = newtrain.groupby('User_ID')['Purchase'].transform('mean')\n",
    "newtrain['user_median'] = newtrain.groupby('User_ID')['Purchase'].transform('median')"
   ]
  },
  {
   "cell_type": "code",
   "execution_count": 181,
   "id": "4711d225",
   "metadata": {},
   "outputs": [
    {
     "name": "stderr",
     "output_type": "stream",
     "text": [
      "/var/folders/ww/s582n_2j1z98f1zx70j5c6pc0000gn/T/ipykernel_56164/4132199192.py:1: SettingWithCopyWarning: \n",
      "A value is trying to be set on a copy of a slice from a DataFrame.\n",
      "Try using .loc[row_indexer,col_indexer] = value instead\n",
      "\n",
      "See the caveats in the documentation: https://pandas.pydata.org/pandas-docs/stable/user_guide/indexing.html#returning-a-view-versus-a-copy\n",
      "  newtest['user_count'] = newtrain.groupby('User_ID')['Purchase'].transform('count')\n",
      "/var/folders/ww/s582n_2j1z98f1zx70j5c6pc0000gn/T/ipykernel_56164/4132199192.py:2: SettingWithCopyWarning: \n",
      "A value is trying to be set on a copy of a slice from a DataFrame.\n",
      "Try using .loc[row_indexer,col_indexer] = value instead\n",
      "\n",
      "See the caveats in the documentation: https://pandas.pydata.org/pandas-docs/stable/user_guide/indexing.html#returning-a-view-versus-a-copy\n",
      "  newtest['user_min'] = newtrain.groupby('User_ID')['Purchase'].transform('min')\n",
      "/var/folders/ww/s582n_2j1z98f1zx70j5c6pc0000gn/T/ipykernel_56164/4132199192.py:3: SettingWithCopyWarning: \n",
      "A value is trying to be set on a copy of a slice from a DataFrame.\n",
      "Try using .loc[row_indexer,col_indexer] = value instead\n",
      "\n",
      "See the caveats in the documentation: https://pandas.pydata.org/pandas-docs/stable/user_guide/indexing.html#returning-a-view-versus-a-copy\n",
      "  newtest['user_max'] = newtrain.groupby('User_ID')['Purchase'].transform('max')\n",
      "/var/folders/ww/s582n_2j1z98f1zx70j5c6pc0000gn/T/ipykernel_56164/4132199192.py:4: SettingWithCopyWarning: \n",
      "A value is trying to be set on a copy of a slice from a DataFrame.\n",
      "Try using .loc[row_indexer,col_indexer] = value instead\n",
      "\n",
      "See the caveats in the documentation: https://pandas.pydata.org/pandas-docs/stable/user_guide/indexing.html#returning-a-view-versus-a-copy\n",
      "  newtest['user_std'] = newtrain.groupby('User_ID')['Purchase'].transform('std')\n",
      "/var/folders/ww/s582n_2j1z98f1zx70j5c6pc0000gn/T/ipykernel_56164/4132199192.py:5: SettingWithCopyWarning: \n",
      "A value is trying to be set on a copy of a slice from a DataFrame.\n",
      "Try using .loc[row_indexer,col_indexer] = value instead\n",
      "\n",
      "See the caveats in the documentation: https://pandas.pydata.org/pandas-docs/stable/user_guide/indexing.html#returning-a-view-versus-a-copy\n",
      "  newtest['user_mean'] = newtrain.groupby('User_ID')['Purchase'].transform('mean')\n",
      "/var/folders/ww/s582n_2j1z98f1zx70j5c6pc0000gn/T/ipykernel_56164/4132199192.py:6: SettingWithCopyWarning: \n",
      "A value is trying to be set on a copy of a slice from a DataFrame.\n",
      "Try using .loc[row_indexer,col_indexer] = value instead\n",
      "\n",
      "See the caveats in the documentation: https://pandas.pydata.org/pandas-docs/stable/user_guide/indexing.html#returning-a-view-versus-a-copy\n",
      "  newtest['user_median'] = newtrain.groupby('User_ID')['Purchase'].transform('median')\n"
     ]
    }
   ],
   "source": [
    "newtest['user_count'] = newtrain.groupby('User_ID')['Purchase'].transform('count')\n",
    "newtest['user_min'] = newtrain.groupby('User_ID')['Purchase'].transform('min')\n",
    "newtest['user_max'] = newtrain.groupby('User_ID')['Purchase'].transform('max')\n",
    "newtest['user_std'] = newtrain.groupby('User_ID')['Purchase'].transform('std')\n",
    "newtest['user_mean'] = newtrain.groupby('User_ID')['Purchase'].transform('mean')\n",
    "newtest['user_median'] = newtrain.groupby('User_ID')['Purchase'].transform('median')"
   ]
  },
  {
   "cell_type": "code",
   "execution_count": 183,
   "id": "2c94974e",
   "metadata": {},
   "outputs": [
    {
     "data": {
      "text/plain": [
       "Product_Category_2     72344\n",
       "Product_Category_3    162562\n",
       "Purchase              233599\n",
       "product_std               59\n",
       "dtype: int64"
      ]
     },
     "execution_count": 183,
     "metadata": {},
     "output_type": "execute_result"
    }
   ],
   "source": [
    "newtest.isnull().sum().loc[newtest.isnull().sum() != 0]"
   ]
  },
  {
   "cell_type": "code",
   "execution_count": 184,
   "id": "b1a5ed45",
   "metadata": {},
   "outputs": [
    {
     "data": {
      "text/plain": [
       "Product_Category_2    173638\n",
       "Product_Category_3    383247\n",
       "Purchase                   0\n",
       "product_std              144\n",
       "dtype: int64"
      ]
     },
     "execution_count": 184,
     "metadata": {},
     "output_type": "execute_result"
    }
   ],
   "source": [
    "newtrain.isnull().sum().loc[newtest.isnull().sum() != 0]"
   ]
  },
  {
   "cell_type": "code",
   "execution_count": 191,
   "id": "69c2cb23",
   "metadata": {},
   "outputs": [
    {
     "data": {
      "text/plain": [
       "Index(['User_ID', 'Occupation', 'Stay_In_Current_City_Years', 'Marital_Status',\n",
       "       'Product_Category_1', 'Product_Category_2', 'Product_Category_3',\n",
       "       'Purchase', 'numeric_Age', 'product_count', 'product_min',\n",
       "       'product_max', 'product_std', 'product_mean', 'product_median',\n",
       "       'user_count', 'user_min', 'user_max', 'user_std', 'user_mean',\n",
       "       'user_median'],\n",
       "      dtype='object')"
      ]
     },
     "execution_count": 191,
     "metadata": {},
     "output_type": "execute_result"
    }
   ],
   "source": [
    "copy = newtrain.dropna()\n",
    "copy.select_dtypes(exclude = 'object').columns"
   ]
  },
  {
   "cell_type": "code",
   "execution_count": 192,
   "id": "cfbd8d94",
   "metadata": {},
   "outputs": [
    {
     "name": "stdout",
     "output_type": "stream",
     "text": [
      "User_ID\n",
      "Occupation\n",
      "Stay_In_Current_City_Years\n",
      "Marital_Status\n",
      "Product_Category_1\n",
      "Product_Category_2\n",
      "Product_Category_3\n",
      "numeric_Age\n",
      "product_count\n",
      "product_min\n",
      "product_max\n",
      "product_std\n",
      "product_median\n",
      "user_count\n",
      "user_min\n",
      "user_max\n",
      "user_std\n",
      "user_mean\n",
      "user_median\n"
     ]
    }
   ],
   "source": [
    "cols = ['User_ID', 'Occupation', 'Stay_In_Current_City_Years', 'Marital_Status',\n",
    "       'Product_Category_1', 'Product_Category_2', 'Product_Category_3',\n",
    "       'Purchase', 'numeric_Age', 'product_count', 'product_min',\n",
    "       'product_max', 'product_std', 'product_mean', 'product_median',\n",
    "       'user_count', 'user_min', 'user_max', 'user_std', 'user_mean',\n",
    "       'user_median']\n",
    "\n",
    "list_cols = []\n",
    "for i in cols:\n",
    "    test_stats, p_value = stats.ttest_ind(copy.loc[:,i], copy.Purchase)\n",
    "    \n",
    "    if (p_value < 0.05):\n",
    "        print(i)\n",
    "        list_cols.append(i)\n",
    "        \n",
    "    else:\n",
    "        pass"
   ]
  },
  {
   "cell_type": "code",
   "execution_count": 195,
   "id": "de2846e4",
   "metadata": {},
   "outputs": [
    {
     "name": "stderr",
     "output_type": "stream",
     "text": [
      "/var/folders/ww/s582n_2j1z98f1zx70j5c6pc0000gn/T/ipykernel_56164/2476964724.py:1: SettingWithCopyWarning: \n",
      "A value is trying to be set on a copy of a slice from a DataFrame\n",
      "\n",
      "See the caveats in the documentation: https://pandas.pydata.org/pandas-docs/stable/user_guide/indexing.html#returning-a-view-versus-a-copy\n",
      "  newtest.drop(columns = 'product_mean', inplace = True)\n"
     ]
    }
   ],
   "source": [
    "newtest.drop(columns = 'product_mean', inplace = True)"
   ]
  },
  {
   "cell_type": "code",
   "execution_count": 196,
   "id": "aecbed3d",
   "metadata": {},
   "outputs": [
    {
     "name": "stderr",
     "output_type": "stream",
     "text": [
      "/var/folders/ww/s582n_2j1z98f1zx70j5c6pc0000gn/T/ipykernel_56164/3262854952.py:1: SettingWithCopyWarning: \n",
      "A value is trying to be set on a copy of a slice from a DataFrame\n",
      "\n",
      "See the caveats in the documentation: https://pandas.pydata.org/pandas-docs/stable/user_guide/indexing.html#returning-a-view-versus-a-copy\n",
      "  newtrain.drop(columns = 'product_mean', inplace = True)\n"
     ]
    }
   ],
   "source": [
    "newtrain.drop(columns = 'product_mean', inplace = True)"
   ]
  },
  {
   "cell_type": "code",
   "execution_count": 197,
   "id": "5f11af30",
   "metadata": {
    "scrolled": true
   },
   "outputs": [
    {
     "data": {
      "text/plain": [
       "(550068, 24)"
      ]
     },
     "execution_count": 197,
     "metadata": {},
     "output_type": "execute_result"
    }
   ],
   "source": [
    "newtrain.shape"
   ]
  },
  {
   "cell_type": "code",
   "execution_count": 203,
   "id": "24ee97a7",
   "metadata": {},
   "outputs": [
    {
     "data": {
      "text/plain": [
       "Product_Category_2    173638\n",
       "Product_Category_3    383247\n",
       "product_std              144\n",
       "dtype: int64"
      ]
     },
     "execution_count": 203,
     "metadata": {},
     "output_type": "execute_result"
    }
   ],
   "source": [
    "newtrain.isnull().sum()[newtrain.isnull().sum() != 0]"
   ]
  },
  {
   "cell_type": "code",
   "execution_count": 204,
   "id": "e955ea15",
   "metadata": {},
   "outputs": [],
   "source": [
    "newtrain.product_std.fillna(0, inplace = True)\n",
    "newtest.product_std.fillna(0, inplace = True)"
   ]
  },
  {
   "cell_type": "code",
   "execution_count": 205,
   "id": "56887e64",
   "metadata": {},
   "outputs": [
    {
     "data": {
      "text/plain": [
       "Product_Category_2    173638\n",
       "Product_Category_3    383247\n",
       "dtype: int64"
      ]
     },
     "execution_count": 205,
     "metadata": {},
     "output_type": "execute_result"
    }
   ],
   "source": [
    "newtrain.isnull().sum()[newtrain.isnull().sum() != 0]"
   ]
  },
  {
   "cell_type": "code",
   "execution_count": 211,
   "id": "f6620d32",
   "metadata": {},
   "outputs": [
    {
     "data": {
      "text/plain": [
       "Product_Category_2     72344\n",
       "Product_Category_3    162562\n",
       "Purchase              233599\n",
       "dtype: int64"
      ]
     },
     "execution_count": 211,
     "metadata": {},
     "output_type": "execute_result"
    }
   ],
   "source": [
    "newtest.isnull().sum()[newtest.isnull().sum() != 0]"
   ]
  },
  {
   "cell_type": "code",
   "execution_count": 232,
   "id": "012846b4",
   "metadata": {},
   "outputs": [
    {
     "data": {
      "text/plain": [
       "<Axes: >"
      ]
     },
     "execution_count": 232,
     "metadata": {},
     "output_type": "execute_result"
    },
    {
     "data": {
      "image/png": "[encoded data removed]",
      "text/plain": [
       "<Figure size 640x480 with 1 Axes>"
      ]
     },
     "metadata": {},
     "output_type": "display_data"
    }
   ],
   "source": [
    "newtrain.Product_Category_2.value_counts().plot(kind = 'bar')"
   ]
  },
  {
   "cell_type": "code",
   "execution_count": 235,
   "id": "7c93b71d",
   "metadata": {},
   "outputs": [],
   "source": [
    "newtrain['Product_Category_2'] = newtrain.groupby(['City_Category','Gender'])['Product_Category_2'].apply(lambda x: x.fillna(x.median()))"
   ]
  },
  {
   "cell_type": "code",
   "execution_count": 236,
   "id": "6f6664ae",
   "metadata": {},
   "outputs": [],
   "source": [
    "newtrain['Product_Category_3'] = newtrain.groupby(['City_Category','Gender'])['Product_Category_3'].apply(lambda x: x.fillna(x.median()))"
   ]
  },
  {
   "cell_type": "code",
   "execution_count": 247,
   "id": "b9fa7bfa",
   "metadata": {},
   "outputs": [
    {
     "data": {
      "text/plain": [
       "Series([], dtype: int64)"
      ]
     },
     "execution_count": 247,
     "metadata": {},
     "output_type": "execute_result"
    }
   ],
   "source": [
    "newtrain.isnull().sum()[newtrain.isnull().sum() != 0]"
   ]
  },
  {
   "cell_type": "code",
   "execution_count": 238,
   "id": "3b0b4723",
   "metadata": {},
   "outputs": [],
   "source": [
    "newtest['Product_Category_2'] = newtest.groupby(['City_Category','Gender'])['Product_Category_2'].apply(lambda x: x.fillna(x.median()))"
   ]
  },
  {
   "cell_type": "code",
   "execution_count": 241,
   "id": "5c1ed17b",
   "metadata": {},
   "outputs": [],
   "source": [
    "newtest['Product_Category_3'] = newtest.groupby(['City_Category','Gender'])['Product_Category_3'].apply(lambda x: x.fillna(x.median()))"
   ]
  },
  {
   "cell_type": "code",
   "execution_count": 248,
   "id": "858ac31a",
   "metadata": {},
   "outputs": [
    {
     "data": {
      "text/plain": [
       "Series([], dtype: int64)"
      ]
     },
     "execution_count": 248,
     "metadata": {},
     "output_type": "execute_result"
    }
   ],
   "source": [
    "newtest.isnull().sum()[newtest.isnull().sum() != 0]"
   ]
  },
  {
   "cell_type": "code",
   "execution_count": 245,
   "id": "267d9a12",
   "metadata": {},
   "outputs": [],
   "source": [
    "newtrain.drop(columns = ['User_ID','Product_ID'], axis = 1, inplace = True)\n",
    "newtest.drop(columns = ['Purchase','User_ID','Product_ID'], inplace = True)"
   ]
  },
  {
   "cell_type": "code",
   "execution_count": 246,
   "id": "2d813f1c",
   "metadata": {},
   "outputs": [
    {
     "data": {
      "text/plain": [
       "((550068, 22), (233599, 21))"
      ]
     },
     "execution_count": 246,
     "metadata": {},
     "output_type": "execute_result"
    }
   ],
   "source": [
    "newtrain.shape, newtest.shape"
   ]
  },
  {
   "cell_type": "code",
   "execution_count": 251,
   "id": "95b8f549",
   "metadata": {},
   "outputs": [
    {
     "data": {
      "text/plain": [
       "<Axes: xlabel='Occupation'>"
      ]
     },
     "execution_count": 251,
     "metadata": {},
     "output_type": "execute_result"
    },
    {
     "data": {
      "image/png": "[encoded data removed]",
      "text/plain": [
       "<Figure size 640x480 with 1 Axes>"
      ]
     },
     "metadata": {},
     "output_type": "display_data"
    }
   ],
   "source": [
    "newtrain.groupby('Occupation')['Purchase'].count().plot(kind = 'bar')"
   ]
  },
  {
   "cell_type": "code",
   "execution_count": 252,
   "id": "2fdf4817",
   "metadata": {
    "scrolled": true
   },
   "outputs": [
    {
     "data": {
      "image/png": "[encoded data removed]",
      "text/plain": [
       "<Figure size 640x480 with 1 Axes>"
      ]
     },
     "metadata": {},
     "output_type": "display_data"
    }
   ],
   "source": [
    "sns.boxplot(x = 'Occupation', y = 'Purchase', data = newtrain);"
   ]
  },
  {
   "cell_type": "code",
   "execution_count": 253,
   "id": "ecc628ee",
   "metadata": {},
   "outputs": [
    {
     "data": {
      "text/html": [
       "<div>\n",
       "<style scoped>\n",
       "    .dataframe tbody tr th:only-of-type {\n",
       "        vertical-align: middle;\n",
       "    }\n",
       "\n",
       "    .dataframe tbody tr th {\n",
       "        vertical-align: top;\n",
       "    }\n",
       "\n",
       "    .dataframe thead th {\n",
       "        text-align: right;\n",
       "    }\n",
       "</style>\n",
       "<table border=\"1\" class=\"dataframe\">\n",
       "  <thead>\n",
       "    <tr style=\"text-align: right;\">\n",
       "      <th></th>\n",
       "      <th>df</th>\n",
       "      <th>sum_sq</th>\n",
       "      <th>mean_sq</th>\n",
       "      <th>F</th>\n",
       "      <th>PR(&gt;F)</th>\n",
       "    </tr>\n",
       "  </thead>\n",
       "  <tbody>\n",
       "    <tr>\n",
       "      <th>Occupation</th>\n",
       "      <td>1.0</td>\n",
       "      <td>6.023389e+09</td>\n",
       "      <td>6.023389e+09</td>\n",
       "      <td>238.831156</td>\n",
       "      <td>7.259684e-54</td>\n",
       "    </tr>\n",
       "    <tr>\n",
       "      <th>Residual</th>\n",
       "      <td>550066.0</td>\n",
       "      <td>1.387282e+13</td>\n",
       "      <td>2.522028e+07</td>\n",
       "      <td>NaN</td>\n",
       "      <td>NaN</td>\n",
       "    </tr>\n",
       "  </tbody>\n",
       "</table>\n",
       "</div>"
      ],
      "text/plain": [
       "                  df        sum_sq       mean_sq           F        PR(>F)\n",
       "Occupation       1.0  6.023389e+09  6.023389e+09  238.831156  7.259684e-54\n",
       "Residual    550066.0  1.387282e+13  2.522028e+07         NaN           NaN"
      ]
     },
     "execution_count": 253,
     "metadata": {},
     "output_type": "execute_result"
    }
   ],
   "source": [
    "model = sfa.ols('Purchase~Occupation', newtrain).fit()\n",
    "anova_lm(model)"
   ]
  },
  {
   "cell_type": "code",
   "execution_count": 255,
   "id": "13efc15c",
   "metadata": {},
   "outputs": [],
   "source": [
    "mapped = {'0-17' : 1, '18-25' : 2, '26-35' : 3, '36-45' : 4, '46-50' : 5, '51-55' : 6, '55+' : 7}"
   ]
  },
  {
   "cell_type": "code",
   "execution_count": 257,
   "id": "220747da",
   "metadata": {},
   "outputs": [],
   "source": [
    "newtrain.Age = newtrain.Age.map(mapped)"
   ]
  },
  {
   "cell_type": "code",
   "execution_count": 258,
   "id": "403948f5",
   "metadata": {},
   "outputs": [],
   "source": [
    "newtest.Age = newtest.Age.map(mapped)"
   ]
  },
  {
   "cell_type": "code",
   "execution_count": 259,
   "id": "5946beab",
   "metadata": {},
   "outputs": [],
   "source": [
    "dummytrain = pd.get_dummies(newtrain, drop_first = True)\n",
    "dummytest = pd.get_dummies(newtest, drop_first = True)"
   ]
  },
  {
   "cell_type": "code",
   "execution_count": 263,
   "id": "5702e4f0",
   "metadata": {},
   "outputs": [],
   "source": [
    "# Splitting the data\n",
    "X = dummytrain.drop(columns = 'Purchase', axis = 1)\n",
    "y = dummytrain['Purchase']"
   ]
  },
  {
   "cell_type": "code",
   "execution_count": 264,
   "id": "b2ac1d87",
   "metadata": {},
   "outputs": [],
   "source": [
    "Kfold = KFold(n_splits = 5, shuffle = True , random_state = 42)\n",
    "\n",
    "dt = DecisionTreeRegressor()\n",
    "rf = RandomForestRegressor()\n",
    "gdm = GradientBoostingRegressor()\n",
    "\n",
    "pred_tree = []\n",
    "pred_rf = []\n",
    "pred_gdm = []\n",
    "\n",
    "for train_index, test_index in Kfold.split(X,y):\n",
    "    xtrain = X.loc[train_index]\n",
    "    ytrain = y.loc[train_index]\n",
    "    pred_tree.append(dt.fit(xtrain,ytrain).predict(dummytest))\n",
    "    pred_rf.append(rf.fit(xtrain,ytrain).predict(dummytest))\n",
    "    pred_gdm.append(gdm.fit(xtrain,ytrain).predict(dummytest))"
   ]
  },
  {
   "cell_type": "code",
   "execution_count": null,
   "id": "4d061627",
   "metadata": {},
   "outputs": [],
   "source": [
    "# Stacking Regressor Model\n",
    "from sklearn.ensemble import StackingRegressor\n",
    "\n",
    "xgboost = XGBRegressor()\n",
    "\n",
    "stack = StackingRegressor(estimators = [dt, rf, gdm], final_estimators = xgboost)\n",
    "\n",
    "stacking_pred = []\n",
    "for train_index, test_index in Kfold.split(X,y):\n",
    "    xtrain = X.loc[train_index]\n",
    "    ytrain = y.loc[train_index]\n",
    "    stacking_pred.append(stack.fit(xtrain,ytrain).predict(dummytest))"
   ]
  }
 ],
 "metadata": {
  "kernelspec": {
   "display_name": "Python 3 (ipykernel)",
   "language": "python",
   "name": "python3"
  },
  "language_info": {
   "codemirror_mode": {
    "name": "ipython",
    "version": 3
   },
   "file_extension": ".py",
   "mimetype": "text/x-python",
   "name": "python",
   "nbconvert_exporter": "python",
   "pygments_lexer": "ipython3",
   "version": "3.11.3"
  }
 },
 "nbformat": 4,
 "nbformat_minor": 5
}
